{
  "nbformat": 4,
  "nbformat_minor": 0,
  "metadata": {
    "colab": {
      "provenance": [],
      "authorship_tag": "ABX9TyOnF8FggAqAinsR7Es1H8ck",
      "include_colab_link": true
    },
    "kernelspec": {
      "name": "python3",
      "display_name": "Python 3"
    },
    "language_info": {
      "name": "python"
    }
  },
  "cells": [
    {
      "cell_type": "markdown",
      "metadata": {
        "id": "view-in-github",
        "colab_type": "text"
      },
      "source": [
        "<a href=\"https://colab.research.google.com/github/schoolStoneCat/python/blob/main/test0.ipynb\" target=\"_parent\"><img src=\"https://colab.research.google.com/assets/colab-badge.svg\" alt=\"Open In Colab\"/></a>"
      ]
    },
    {
      "cell_type": "code",
      "execution_count": null,
      "metadata": {
        "colab": {
          "base_uri": "https://localhost:8080/"
        },
        "id": "UFfgIhFwNLPA",
        "outputId": "f82b45a9-620a-4c62-ef40-63855e18b2bf"
      },
      "outputs": [
        {
          "output_type": "stream",
          "name": "stdout",
          "text": [
            "SSN.p file is not exist.\n",
            "How much are you putting in? >>1\n",
            "Input name >>john\n",
            "Input Social Security Number (Input 000000-0000000) >>990228-1486235\n",
            "finish input info.\n",
            "finish file save.\n",
            "{'john': '990228-1486235'}\n",
            "1.Change Social Security Number.\n",
            "2.Don't Change Social Security Number\n",
            ">> 1\n",
            "finish Change SSN\n",
            "Success to make Output txt file.\n",
            "finish file save.\n"
          ]
        }
      ],
      "source": [
        "import pickle\n",
        "import re\n",
        "import os.path\n",
        "\n",
        "def MK_file(dic):\n",
        "    #바이너리 파일 생성 함수\n",
        "    with open('SSN.p', 'wb') as f:\n",
        "        pickle.dump(dic, f)\n",
        "        \n",
        "    print(\"finish file save.\")\n",
        "    \n",
        "def GD_file():\n",
        "    #바이너리 파일 불러오기 함수\n",
        "    with open('SSN.p', 'rb') as f:\n",
        "        data = pickle.load(f)\n",
        "\n",
        "    print(\"finish load file data.\")\n",
        "    return data\n",
        "\n",
        "def User_Save(dic):\n",
        "    #사용자가 이름과 주민번호를 만들고 그에 따른 딕셔너리 생성\n",
        "    repeat_num = int(input(\"How much are you putting in? >>\"))\n",
        "    \n",
        "    for i in range(repeat_num):\n",
        "        name = input(\"Input name >>\")\n",
        "        num = input(\"Input Social Security Number (Input 000000-0000000) >>\")\n",
        "        dic[name] = num\n",
        "    \n",
        "    print(\"finish input info.\")\n",
        "    \n",
        "def Ch_SSN(result_dic, dic):\n",
        "    #딕셔너리의 밸류값(주민번호)를 불러와서 변형하는 함수\n",
        "    pat = re.compile(\"(\\d{6})[-]\\d{7}\")\n",
        "    for key in dic:\n",
        "        result_dic[key] = pat.sub(\"\\g<1>-\"+\"*\"*7, str(dic[key]))\n",
        "    \n",
        "    print(\"finish Change SSN\")\n",
        "    \n",
        "def Save_txtfile(dic):\n",
        "    #출력파일(txt) 파일을 열고 딕셔너리의 키와 밸류를 저장하는 함수.\n",
        "    with open('SSN.txt', 'w+', encoding='utf8') as f:\n",
        "        for name,SSN in dic.items():\n",
        "            f.write(f'{name} : {SSN}\\n')\n",
        "            \n",
        "    print(\"Success to make Output txt file.\")\n",
        "\n",
        "def main():\n",
        "    #메인함수\n",
        "    SSN_dic = {}\n",
        "    Ch_SSN_dic = {}\n",
        "\n",
        "    if os.path.isfile(\"SSN.p\"):\n",
        "        print(\"SSN.p file is exist.\")\n",
        "        print(\"1.Make New file.\")\n",
        "        print(\"2.Don't Make New file.\")\n",
        "        num = int(input(\">> \"))\n",
        "        if num == 1:\n",
        "            User_Save(SSN_dic)\n",
        "        else:\n",
        "            SSN_dic = GD_file()\n",
        "    else:\n",
        "        print(\"SSN.p file is not exist.\")\n",
        "        User_Save(SSN_dic)\n",
        "        MK_file(SSN_dic)\n",
        "        \n",
        "    print(SSN_dic)\n",
        "        \n",
        "    print(\"1.Change Social Security Number.\")\n",
        "    print(\"2.Don't Change Social Security Number\")\n",
        "    num = int(input(\">> \"))\n",
        "\n",
        "    if num == 1:\n",
        "        Ch_SSN(Ch_SSN_dic, SSN_dic)\n",
        "        Save_txtfile(Ch_SSN_dic)\n",
        "    else:\n",
        "        Save_txtfile(SSN_dic)\n",
        "\n",
        "    MK_file(SSN_dic)\n",
        "    \n",
        "if __name__ == \"__main__\":\n",
        "    main()"
      ]
    },
    {
      "cell_type": "markdown",
      "source": [
        "p 파일은 바이너리 파일로써 기존의 데이터를 저장하는 역할을 맡음\n",
        "여러가지 함수를 이용해서, 바이너리 파일을 생성하고, 바이너리 파일을 불러오며, 이를 이용하여 기존에 사용자가 입력한 주민등록번호를 기록가능함. "
      ],
      "metadata": {
        "id": "s8J8e4VcO2YV"
      }
    },
    {
      "cell_type": "code",
      "source": [
        "!pip show tensorflow"
      ],
      "metadata": {
        "colab": {
          "base_uri": "https://localhost:8080/"
        },
        "id": "DPxbT3dRTz_-",
        "outputId": "0bde1153-157f-453a-dffb-8c128378542c"
      },
      "execution_count": 2,
      "outputs": [
        {
          "output_type": "stream",
          "name": "stdout",
          "text": [
            "Name: tensorflow\n",
            "Version: 2.9.2\n",
            "Summary: TensorFlow is an open source machine learning framework for everyone.\n",
            "Home-page: https://www.tensorflow.org/\n",
            "Author: Google Inc.\n",
            "Author-email: packages@tensorflow.org\n",
            "License: Apache 2.0\n",
            "Location: /usr/local/lib/python3.8/dist-packages\n",
            "Requires: typing-extensions, numpy, six, astunparse, tensorflow-estimator, packaging, libclang, protobuf, wrapt, flatbuffers, keras-preprocessing, opt-einsum, setuptools, termcolor, gast, keras, h5py, grpcio, tensorflow-io-gcs-filesystem, google-pasta, absl-py, tensorboard\n",
            "Required-by: kapre\n"
          ]
        }
      ]
    },
    {
      "cell_type": "code",
      "source": [
        "!pip --help"
      ],
      "metadata": {
        "colab": {
          "base_uri": "https://localhost:8080/"
        },
        "id": "UAtxKV5KT_um",
        "outputId": "5d0385a2-2486-42a3-c0e5-84202031f232"
      },
      "execution_count": 3,
      "outputs": [
        {
          "output_type": "stream",
          "name": "stdout",
          "text": [
            "\n",
            "Usage:   \n",
            "  pip3 <command> [options]\n",
            "\n",
            "Commands:\n",
            "  install                     Install packages.\n",
            "  download                    Download packages.\n",
            "  uninstall                   Uninstall packages.\n",
            "  freeze                      Output installed packages in requirements format.\n",
            "  list                        List installed packages.\n",
            "  show                        Show information about installed packages.\n",
            "  check                       Verify installed packages have compatible dependencies.\n",
            "  config                      Manage local and global configuration.\n",
            "  search                      Search PyPI for packages.\n",
            "  cache                       Inspect and manage pip's wheel cache.\n",
            "  wheel                       Build wheels from your requirements.\n",
            "  hash                        Compute hashes of package archives.\n",
            "  completion                  A helper command used for command completion.\n",
            "  debug                       Show information useful for debugging.\n",
            "  help                        Show help for commands.\n",
            "\n",
            "General Options:\n",
            "  -h, --help\n",
            "  Show help.\n",
            "  --isolated\n",
            "  Run pip in\n",
            "  an isolated\n",
            "  mode,\n",
            "  ignoring\n",
            "  environment\n",
            "  variables\n",
            "  and user co\n",
            "  nfiguration\n",
            "  .\n",
            "  -v, --verbose\n",
            "  Give more\n",
            "  output.\n",
            "  Option is\n",
            "  additive,\n",
            "  and can be\n",
            "  used up to\n",
            "  3 times.\n",
            "  -V, --version\n",
            "  Show\n",
            "  version and\n",
            "  exit.\n",
            "  -q, --quiet\n",
            "  Give less\n",
            "  output.\n",
            "  Option is\n",
            "  additive,\n",
            "  and can be\n",
            "  used up to\n",
            "  3 times (co\n",
            "  rresponding\n",
            "  to WARNING,\n",
            "  ERROR, and\n",
            "  CRITICAL\n",
            "  logging\n",
            "  levels).\n",
            "  --log <path>\n",
            "  Path to a\n",
            "  verbose\n",
            "  appending\n",
            "  log.\n",
            "  --no-input\n",
            "  Disable\n",
            "  prompting\n",
            "  for input.\n",
            "  --proxy <proxy>\n",
            "  Specify a\n",
            "  proxy in\n",
            "  the form [u\n",
            "  ser:passwd@\n",
            "  ]proxy.serv\n",
            "  er:port.\n",
            "  --retries <retries>\n",
            "  Maximum\n",
            "  number of\n",
            "  retries\n",
            "  each\n",
            "  connection\n",
            "  should\n",
            "  attempt\n",
            "  (default 5\n",
            "  times).\n",
            "  --timeout <sec>\n",
            "  Set the\n",
            "  socket\n",
            "  timeout\n",
            "  (default 15\n",
            "  seconds).\n",
            "  --exists-action <action>\n",
            "  Default\n",
            "  action when\n",
            "  a path\n",
            "  already\n",
            "  exists:\n",
            "  (s)witch,\n",
            "  (i)gnore,\n",
            "  (w)ipe,\n",
            "  (b)ackup,\n",
            "  (a)bort.\n",
            "  --trusted-host <hostname>\n",
            "  Mark this\n",
            "  host or\n",
            "  host:port\n",
            "  pair as\n",
            "  trusted,\n",
            "  even though\n",
            "  it does not\n",
            "  have valid\n",
            "  or any\n",
            "  HTTPS.\n",
            "  --cert <path>\n",
            "  Path to\n",
            "  PEM-encoded\n",
            "  CA\n",
            "  certificate\n",
            "  bundle. If\n",
            "  provided,\n",
            "  overrides\n",
            "  the\n",
            "  default.\n",
            "  See 'SSL\n",
            "  Certificate\n",
            "  Verificatio\n",
            "  n' in pip d\n",
            "  ocumentatio\n",
            "  n for more \n",
            "  information\n",
            "  .\n",
            "  --client-cert <path>\n",
            "  Path to SSL\n",
            "  client cert\n",
            "  ificate, a\n",
            "  single file\n",
            "  containing\n",
            "  the private\n",
            "  key and the\n",
            "  certificate\n",
            "  in PEM\n",
            "  format.\n",
            "  --cache-dir <dir>\n",
            "  Store the\n",
            "  cache data\n",
            "  in <dir>.\n",
            "  --no-cache-dir\n",
            "  Disable the\n",
            "  cache.\n",
            "  --disable-pip-version-check\n",
            "  Don't perio\n",
            "  dically\n",
            "  check PyPI\n",
            "  to\n",
            "  determine\n",
            "  whether a\n",
            "  new version\n",
            "  of pip is\n",
            "  available\n",
            "  for\n",
            "  download.\n",
            "  Implied\n",
            "  with --no-\n",
            "  index.\n",
            "  --no-color\n",
            "  Suppress\n",
            "  colored\n",
            "  output.\n",
            "  --no-python-version-warning\n",
            "  Silence\n",
            "  deprecation\n",
            "  warnings\n",
            "  for\n",
            "  upcoming\n",
            "  unsupported\n",
            "  Pythons.\n",
            "  --use-feature <feature>\n",
            "  Enable new \n",
            "  functionali\n",
            "  ty, that\n",
            "  may be\n",
            "  backward in\n",
            "  compatible.\n",
            "  --use-deprecated <feature>\n",
            "  Enable\n",
            "  deprecated \n",
            "  functionali\n",
            "  ty, that\n",
            "  will be\n",
            "  removed in\n",
            "  the future.\n"
          ]
        }
      ]
    },
    {
      "cell_type": "code",
      "source": [
        "!pip show matplotlib"
      ],
      "metadata": {
        "colab": {
          "base_uri": "https://localhost:8080/"
        },
        "id": "o0zpNsnRUDju",
        "outputId": "eef6de4f-b15c-43c2-b4e7-4fb40a1ee5c6"
      },
      "execution_count": 4,
      "outputs": [
        {
          "output_type": "stream",
          "name": "stdout",
          "text": [
            "Name: matplotlib\n",
            "Version: 3.2.2\n",
            "Summary: Python plotting package\n",
            "Home-page: https://matplotlib.org\n",
            "Author: John D. Hunter, Michael Droettboom\n",
            "Author-email: matplotlib-users@python.org\n",
            "License: PSF\n",
            "Location: /usr/local/lib/python3.8/dist-packages\n",
            "Requires: python-dateutil, pyparsing, kiwisolver, cycler, numpy\n",
            "Required-by: yellowbrick, wordcloud, seaborn, scikit-image, pycocotools, prophet, plotnine, pandas-profiling, mlxtend, mizani, missingno, matplotlib-venn, keras-vis, imgaug, fastai, descartes, datascience, daft, arviz\n"
          ]
        }
      ]
    },
    {
      "cell_type": "code",
      "source": [
        "from vega_datasets import data\n",
        "stocks = data"
      ],
      "metadata": {
        "id": "GiMBqu4lUI2l"
      },
      "execution_count": null,
      "outputs": []
    },
    {
      "cell_type": "code",
      "source": [
        "with open('gdrive/My drive/test.txt', 'w') as f:\n",
        "    f.writelines(\"hello Google colab!\")"
      ],
      "metadata": {
        "colab": {
          "base_uri": "https://localhost:8080/",
          "height": 192
        },
        "id": "OphGXnlkbxyT",
        "outputId": "0dd4da05-a35d-40fe-e10d-d82aff5c0724"
      },
      "execution_count": 5,
      "outputs": [
        {
          "output_type": "error",
          "ename": "FileNotFoundError",
          "evalue": "ignored",
          "traceback": [
            "\u001b[0;31m---------------------------------------------------------------------------\u001b[0m",
            "\u001b[0;31mFileNotFoundError\u001b[0m                         Traceback (most recent call last)",
            "\u001b[0;32m<ipython-input-5-3f0fe8ff1748>\u001b[0m in \u001b[0;36m<module>\u001b[0;34m\u001b[0m\n\u001b[0;32m----> 1\u001b[0;31m \u001b[0;32mwith\u001b[0m \u001b[0mopen\u001b[0m\u001b[0;34m(\u001b[0m\u001b[0;34m'gdrive/My drive/test.txt'\u001b[0m\u001b[0;34m,\u001b[0m\u001b[0;34m'w'\u001b[0m\u001b[0;34m)\u001b[0m \u001b[0;32mas\u001b[0m \u001b[0mf\u001b[0m\u001b[0;34m:\u001b[0m\u001b[0;34m\u001b[0m\u001b[0;34m\u001b[0m\u001b[0m\n\u001b[0m\u001b[1;32m      2\u001b[0m     \u001b[0mf\u001b[0m\u001b[0;34m.\u001b[0m\u001b[0mwritelines\u001b[0m\u001b[0;34m(\u001b[0m\u001b[0;34m\"hello Google colab!\"\u001b[0m\u001b[0;34m)\u001b[0m\u001b[0;34m\u001b[0m\u001b[0;34m\u001b[0m\u001b[0m\n",
            "\u001b[0;31mFileNotFoundError\u001b[0m: [Errno 2] No such file or directory: 'gdrive/My drive/test.txt'"
          ]
        }
      ]
    }
  ]
}